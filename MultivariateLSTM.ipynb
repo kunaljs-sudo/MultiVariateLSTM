{
  "nbformat": 4,
  "nbformat_minor": 0,
  "metadata": {
    "colab": {
      "provenance": [],
      "collapsed_sections": []
    },
    "kernelspec": {
      "name": "python3",
      "display_name": "Python 3"
    },
    "language_info": {
      "name": "python"
    },
    "accelerator": "GPU"
  },
  "cells": [
    {
      "cell_type": "code",
      "source": [
        "import pandas as pd\n",
        "import  numpy as np\n",
        "\n"
      ],
      "metadata": {
        "id": "wTF5w2oH_7u-"
      },
      "execution_count": null,
      "outputs": []
    },
    {
      "cell_type": "code",
      "source": [
        "import tensorflow as tf\n",
        "from tensorflow.keras.layers import Dense, LSTM, Bidirectional, Dropout\n",
        "from tensorflow.keras.models import Sequential"
      ],
      "metadata": {
        "id": "EL3R0E2-Vwj_"
      },
      "execution_count": null,
      "outputs": []
    },
    {
      "cell_type": "code",
      "source": [
        "from tensorflow.keras.callbacks import EarlyStopping, ModelCheckpoint"
      ],
      "metadata": {
        "id": "ljhfbjuZKjog"
      },
      "execution_count": null,
      "outputs": []
    },
    {
      "cell_type": "code",
      "source": [
        "from matplotlib import pyplot as plt\n",
        "%matplotlib inline"
      ],
      "metadata": {
        "id": "i-vnUiduYtpD"
      },
      "execution_count": null,
      "outputs": []
    },
    {
      "cell_type": "code",
      "source": [],
      "metadata": {
        "id": "-qw8N2ffVwmC"
      },
      "execution_count": null,
      "outputs": []
    },
    {
      "cell_type": "code",
      "source": [
        "# c1  c2  c3  c4\n",
        "# 1   2   2   2   "
      ],
      "metadata": {
        "id": "QThUnfWlBMu9"
      },
      "execution_count": null,
      "outputs": []
    },
    {
      "cell_type": "code",
      "execution_count": null,
      "metadata": {
        "id": "h2fgGV6l59T5",
        "colab": {
          "base_uri": "https://localhost:8080/"
        },
        "outputId": "9f986fe0-b59e-46b2-b579-bdb8f887e99d"
      },
      "outputs": [
        {
          "output_type": "stream",
          "name": "stdout",
          "text": [
            "Mounted at /content/drive\n"
          ]
        }
      ],
      "source": [
        "from google.colab import drive\n",
        "\n",
        "drive.mount('/content/drive')"
      ]
    },
    {
      "cell_type": "code",
      "source": [],
      "metadata": {
        "id": "z2_-P9O_XHnm"
      },
      "execution_count": null,
      "outputs": []
    },
    {
      "cell_type": "code",
      "source": [
        "%cd /content/drive/MyDrive/GoogleStock/"
      ],
      "metadata": {
        "colab": {
          "base_uri": "https://localhost:8080/"
        },
        "id": "UBYsD34u0j7y",
        "outputId": "2dbb59bb-bd76-4b6b-fa82-9b4f84214cc9"
      },
      "execution_count": null,
      "outputs": [
        {
          "output_type": "stream",
          "name": "stdout",
          "text": [
            "/content/drive/MyDrive/GoogleStock\n"
          ]
        }
      ]
    },
    {
      "cell_type": "code",
      "source": [
        "%pwd"
      ],
      "metadata": {
        "colab": {
          "base_uri": "https://localhost:8080/",
          "height": 35
        },
        "id": "ZpJh-o_M0j-M",
        "outputId": "ad533236-e4b7-4d2b-ab36-bc1a3ca6072a"
      },
      "execution_count": null,
      "outputs": [
        {
          "output_type": "execute_result",
          "data": {
            "text/plain": [
              "'/content/drive/MyDrive/GoogleStock'"
            ],
            "application/vnd.google.colaboratory.intrinsic+json": {
              "type": "string"
            }
          },
          "metadata": {},
          "execution_count": 8
        }
      ]
    },
    {
      "cell_type": "code",
      "source": [
        "df = pd.read_csv('Google.csv').reset_index()\n",
        "df.head()"
      ],
      "metadata": {
        "colab": {
          "base_uri": "https://localhost:8080/",
          "height": 337
        },
        "id": "3yKd7On6074r",
        "outputId": "a0fed703-321c-4e10-8a0b-1427ee298f02"
      },
      "execution_count": null,
      "outputs": [
        {
          "output_type": "execute_result",
          "data": {
            "text/plain": [
              "   index symbol                       date   close     high      low    open  \\\n",
              "0      0   GOOG  2017-06-12 00:00:00+00:00  942.90  949.355  915.233  939.56   \n",
              "1      1   GOOG  2017-06-13 00:00:00+00:00  953.40  959.980  944.090  951.91   \n",
              "2      2   GOOG  2017-06-14 00:00:00+00:00  950.76  961.150  942.250  959.92   \n",
              "3      3   GOOG  2017-06-15 00:00:00+00:00  942.31  943.339  924.440  933.97   \n",
              "4      4   GOOG  2017-06-16 00:00:00+00:00  939.78  942.040  931.595  940.00   \n",
              "\n",
              "    volume  adjClose  adjHigh   adjLow  adjOpen  adjVolume  divCash  \\\n",
              "0  3731589    942.90  949.355  915.233   939.56    3731589      0.0   \n",
              "1  1995350    953.40  959.980  944.090   951.91    1995350      0.0   \n",
              "2  1477033    950.76  961.150  942.250   959.92    1477033      0.0   \n",
              "3  2055953    942.31  943.339  924.440   933.97    2055953      0.0   \n",
              "4  2921393    939.78  942.040  931.595   940.00    2921393      0.0   \n",
              "\n",
              "   splitFactor  \n",
              "0          1.0  \n",
              "1          1.0  \n",
              "2          1.0  \n",
              "3          1.0  \n",
              "4          1.0  "
            ],
            "text/html": [
              "\n",
              "  <div id=\"df-d36c429b-b23f-47af-8eef-a107517d81cf\">\n",
              "    <div class=\"colab-df-container\">\n",
              "      <div>\n",
              "<style scoped>\n",
              "    .dataframe tbody tr th:only-of-type {\n",
              "        vertical-align: middle;\n",
              "    }\n",
              "\n",
              "    .dataframe tbody tr th {\n",
              "        vertical-align: top;\n",
              "    }\n",
              "\n",
              "    .dataframe thead th {\n",
              "        text-align: right;\n",
              "    }\n",
              "</style>\n",
              "<table border=\"1\" class=\"dataframe\">\n",
              "  <thead>\n",
              "    <tr style=\"text-align: right;\">\n",
              "      <th></th>\n",
              "      <th>index</th>\n",
              "      <th>symbol</th>\n",
              "      <th>date</th>\n",
              "      <th>close</th>\n",
              "      <th>high</th>\n",
              "      <th>low</th>\n",
              "      <th>open</th>\n",
              "      <th>volume</th>\n",
              "      <th>adjClose</th>\n",
              "      <th>adjHigh</th>\n",
              "      <th>adjLow</th>\n",
              "      <th>adjOpen</th>\n",
              "      <th>adjVolume</th>\n",
              "      <th>divCash</th>\n",
              "      <th>splitFactor</th>\n",
              "    </tr>\n",
              "  </thead>\n",
              "  <tbody>\n",
              "    <tr>\n",
              "      <th>0</th>\n",
              "      <td>0</td>\n",
              "      <td>GOOG</td>\n",
              "      <td>2017-06-12 00:00:00+00:00</td>\n",
              "      <td>942.90</td>\n",
              "      <td>949.355</td>\n",
              "      <td>915.233</td>\n",
              "      <td>939.56</td>\n",
              "      <td>3731589</td>\n",
              "      <td>942.90</td>\n",
              "      <td>949.355</td>\n",
              "      <td>915.233</td>\n",
              "      <td>939.56</td>\n",
              "      <td>3731589</td>\n",
              "      <td>0.0</td>\n",
              "      <td>1.0</td>\n",
              "    </tr>\n",
              "    <tr>\n",
              "      <th>1</th>\n",
              "      <td>1</td>\n",
              "      <td>GOOG</td>\n",
              "      <td>2017-06-13 00:00:00+00:00</td>\n",
              "      <td>953.40</td>\n",
              "      <td>959.980</td>\n",
              "      <td>944.090</td>\n",
              "      <td>951.91</td>\n",
              "      <td>1995350</td>\n",
              "      <td>953.40</td>\n",
              "      <td>959.980</td>\n",
              "      <td>944.090</td>\n",
              "      <td>951.91</td>\n",
              "      <td>1995350</td>\n",
              "      <td>0.0</td>\n",
              "      <td>1.0</td>\n",
              "    </tr>\n",
              "    <tr>\n",
              "      <th>2</th>\n",
              "      <td>2</td>\n",
              "      <td>GOOG</td>\n",
              "      <td>2017-06-14 00:00:00+00:00</td>\n",
              "      <td>950.76</td>\n",
              "      <td>961.150</td>\n",
              "      <td>942.250</td>\n",
              "      <td>959.92</td>\n",
              "      <td>1477033</td>\n",
              "      <td>950.76</td>\n",
              "      <td>961.150</td>\n",
              "      <td>942.250</td>\n",
              "      <td>959.92</td>\n",
              "      <td>1477033</td>\n",
              "      <td>0.0</td>\n",
              "      <td>1.0</td>\n",
              "    </tr>\n",
              "    <tr>\n",
              "      <th>3</th>\n",
              "      <td>3</td>\n",
              "      <td>GOOG</td>\n",
              "      <td>2017-06-15 00:00:00+00:00</td>\n",
              "      <td>942.31</td>\n",
              "      <td>943.339</td>\n",
              "      <td>924.440</td>\n",
              "      <td>933.97</td>\n",
              "      <td>2055953</td>\n",
              "      <td>942.31</td>\n",
              "      <td>943.339</td>\n",
              "      <td>924.440</td>\n",
              "      <td>933.97</td>\n",
              "      <td>2055953</td>\n",
              "      <td>0.0</td>\n",
              "      <td>1.0</td>\n",
              "    </tr>\n",
              "    <tr>\n",
              "      <th>4</th>\n",
              "      <td>4</td>\n",
              "      <td>GOOG</td>\n",
              "      <td>2017-06-16 00:00:00+00:00</td>\n",
              "      <td>939.78</td>\n",
              "      <td>942.040</td>\n",
              "      <td>931.595</td>\n",
              "      <td>940.00</td>\n",
              "      <td>2921393</td>\n",
              "      <td>939.78</td>\n",
              "      <td>942.040</td>\n",
              "      <td>931.595</td>\n",
              "      <td>940.00</td>\n",
              "      <td>2921393</td>\n",
              "      <td>0.0</td>\n",
              "      <td>1.0</td>\n",
              "    </tr>\n",
              "  </tbody>\n",
              "</table>\n",
              "</div>\n",
              "      <button class=\"colab-df-convert\" onclick=\"convertToInteractive('df-d36c429b-b23f-47af-8eef-a107517d81cf')\"\n",
              "              title=\"Convert this dataframe to an interactive table.\"\n",
              "              style=\"display:none;\">\n",
              "        \n",
              "  <svg xmlns=\"http://www.w3.org/2000/svg\" height=\"24px\"viewBox=\"0 0 24 24\"\n",
              "       width=\"24px\">\n",
              "    <path d=\"M0 0h24v24H0V0z\" fill=\"none\"/>\n",
              "    <path d=\"M18.56 5.44l.94 2.06.94-2.06 2.06-.94-2.06-.94-.94-2.06-.94 2.06-2.06.94zm-11 1L8.5 8.5l.94-2.06 2.06-.94-2.06-.94L8.5 2.5l-.94 2.06-2.06.94zm10 10l.94 2.06.94-2.06 2.06-.94-2.06-.94-.94-2.06-.94 2.06-2.06.94z\"/><path d=\"M17.41 7.96l-1.37-1.37c-.4-.4-.92-.59-1.43-.59-.52 0-1.04.2-1.43.59L10.3 9.45l-7.72 7.72c-.78.78-.78 2.05 0 2.83L4 21.41c.39.39.9.59 1.41.59.51 0 1.02-.2 1.41-.59l7.78-7.78 2.81-2.81c.8-.78.8-2.07 0-2.86zM5.41 20L4 18.59l7.72-7.72 1.47 1.35L5.41 20z\"/>\n",
              "  </svg>\n",
              "      </button>\n",
              "      \n",
              "  <style>\n",
              "    .colab-df-container {\n",
              "      display:flex;\n",
              "      flex-wrap:wrap;\n",
              "      gap: 12px;\n",
              "    }\n",
              "\n",
              "    .colab-df-convert {\n",
              "      background-color: #E8F0FE;\n",
              "      border: none;\n",
              "      border-radius: 50%;\n",
              "      cursor: pointer;\n",
              "      display: none;\n",
              "      fill: #1967D2;\n",
              "      height: 32px;\n",
              "      padding: 0 0 0 0;\n",
              "      width: 32px;\n",
              "    }\n",
              "\n",
              "    .colab-df-convert:hover {\n",
              "      background-color: #E2EBFA;\n",
              "      box-shadow: 0px 1px 2px rgba(60, 64, 67, 0.3), 0px 1px 3px 1px rgba(60, 64, 67, 0.15);\n",
              "      fill: #174EA6;\n",
              "    }\n",
              "\n",
              "    [theme=dark] .colab-df-convert {\n",
              "      background-color: #3B4455;\n",
              "      fill: #D2E3FC;\n",
              "    }\n",
              "\n",
              "    [theme=dark] .colab-df-convert:hover {\n",
              "      background-color: #434B5C;\n",
              "      box-shadow: 0px 1px 3px 1px rgba(0, 0, 0, 0.15);\n",
              "      filter: drop-shadow(0px 1px 2px rgba(0, 0, 0, 0.3));\n",
              "      fill: #FFFFFF;\n",
              "    }\n",
              "  </style>\n",
              "\n",
              "      <script>\n",
              "        const buttonEl =\n",
              "          document.querySelector('#df-d36c429b-b23f-47af-8eef-a107517d81cf button.colab-df-convert');\n",
              "        buttonEl.style.display =\n",
              "          google.colab.kernel.accessAllowed ? 'block' : 'none';\n",
              "\n",
              "        async function convertToInteractive(key) {\n",
              "          const element = document.querySelector('#df-d36c429b-b23f-47af-8eef-a107517d81cf');\n",
              "          const dataTable =\n",
              "            await google.colab.kernel.invokeFunction('convertToInteractive',\n",
              "                                                     [key], {});\n",
              "          if (!dataTable) return;\n",
              "\n",
              "          const docLinkHtml = 'Like what you see? Visit the ' +\n",
              "            '<a target=\"_blank\" href=https://colab.research.google.com/notebooks/data_table.ipynb>data table notebook</a>'\n",
              "            + ' to learn more about interactive tables.';\n",
              "          element.innerHTML = '';\n",
              "          dataTable['output_type'] = 'display_data';\n",
              "          await google.colab.output.renderOutput(dataTable, element);\n",
              "          const docLink = document.createElement('div');\n",
              "          docLink.innerHTML = docLinkHtml;\n",
              "          element.appendChild(docLink);\n",
              "        }\n",
              "      </script>\n",
              "    </div>\n",
              "  </div>\n",
              "  "
            ]
          },
          "metadata": {},
          "execution_count": 9
        }
      ]
    },
    {
      "cell_type": "code",
      "source": [
        "df.drop(['index', 'symbol'],axis=1, inplace=True)\n",
        "df.set_index(['date'],inplace=True)\n",
        "df.head()"
      ],
      "metadata": {
        "colab": {
          "base_uri": "https://localhost:8080/",
          "height": 238
        },
        "id": "g-YYRtSa077G",
        "outputId": "aade3ef4-2422-4d05-9406-be82ff15975e"
      },
      "execution_count": null,
      "outputs": [
        {
          "output_type": "execute_result",
          "data": {
            "text/plain": [
              "                            close     high      low    open   volume  \\\n",
              "date                                                                   \n",
              "2017-06-12 00:00:00+00:00  942.90  949.355  915.233  939.56  3731589   \n",
              "2017-06-13 00:00:00+00:00  953.40  959.980  944.090  951.91  1995350   \n",
              "2017-06-14 00:00:00+00:00  950.76  961.150  942.250  959.92  1477033   \n",
              "2017-06-15 00:00:00+00:00  942.31  943.339  924.440  933.97  2055953   \n",
              "2017-06-16 00:00:00+00:00  939.78  942.040  931.595  940.00  2921393   \n",
              "\n",
              "                           adjClose  adjHigh   adjLow  adjOpen  adjVolume  \\\n",
              "date                                                                        \n",
              "2017-06-12 00:00:00+00:00    942.90  949.355  915.233   939.56    3731589   \n",
              "2017-06-13 00:00:00+00:00    953.40  959.980  944.090   951.91    1995350   \n",
              "2017-06-14 00:00:00+00:00    950.76  961.150  942.250   959.92    1477033   \n",
              "2017-06-15 00:00:00+00:00    942.31  943.339  924.440   933.97    2055953   \n",
              "2017-06-16 00:00:00+00:00    939.78  942.040  931.595   940.00    2921393   \n",
              "\n",
              "                           divCash  splitFactor  \n",
              "date                                             \n",
              "2017-06-12 00:00:00+00:00      0.0          1.0  \n",
              "2017-06-13 00:00:00+00:00      0.0          1.0  \n",
              "2017-06-14 00:00:00+00:00      0.0          1.0  \n",
              "2017-06-15 00:00:00+00:00      0.0          1.0  \n",
              "2017-06-16 00:00:00+00:00      0.0          1.0  "
            ],
            "text/html": [
              "\n",
              "  <div id=\"df-a88ac8b2-1b67-4295-9c88-5dc0596e0997\">\n",
              "    <div class=\"colab-df-container\">\n",
              "      <div>\n",
              "<style scoped>\n",
              "    .dataframe tbody tr th:only-of-type {\n",
              "        vertical-align: middle;\n",
              "    }\n",
              "\n",
              "    .dataframe tbody tr th {\n",
              "        vertical-align: top;\n",
              "    }\n",
              "\n",
              "    .dataframe thead th {\n",
              "        text-align: right;\n",
              "    }\n",
              "</style>\n",
              "<table border=\"1\" class=\"dataframe\">\n",
              "  <thead>\n",
              "    <tr style=\"text-align: right;\">\n",
              "      <th></th>\n",
              "      <th>close</th>\n",
              "      <th>high</th>\n",
              "      <th>low</th>\n",
              "      <th>open</th>\n",
              "      <th>volume</th>\n",
              "      <th>adjClose</th>\n",
              "      <th>adjHigh</th>\n",
              "      <th>adjLow</th>\n",
              "      <th>adjOpen</th>\n",
              "      <th>adjVolume</th>\n",
              "      <th>divCash</th>\n",
              "      <th>splitFactor</th>\n",
              "    </tr>\n",
              "    <tr>\n",
              "      <th>date</th>\n",
              "      <th></th>\n",
              "      <th></th>\n",
              "      <th></th>\n",
              "      <th></th>\n",
              "      <th></th>\n",
              "      <th></th>\n",
              "      <th></th>\n",
              "      <th></th>\n",
              "      <th></th>\n",
              "      <th></th>\n",
              "      <th></th>\n",
              "      <th></th>\n",
              "    </tr>\n",
              "  </thead>\n",
              "  <tbody>\n",
              "    <tr>\n",
              "      <th>2017-06-12 00:00:00+00:00</th>\n",
              "      <td>942.90</td>\n",
              "      <td>949.355</td>\n",
              "      <td>915.233</td>\n",
              "      <td>939.56</td>\n",
              "      <td>3731589</td>\n",
              "      <td>942.90</td>\n",
              "      <td>949.355</td>\n",
              "      <td>915.233</td>\n",
              "      <td>939.56</td>\n",
              "      <td>3731589</td>\n",
              "      <td>0.0</td>\n",
              "      <td>1.0</td>\n",
              "    </tr>\n",
              "    <tr>\n",
              "      <th>2017-06-13 00:00:00+00:00</th>\n",
              "      <td>953.40</td>\n",
              "      <td>959.980</td>\n",
              "      <td>944.090</td>\n",
              "      <td>951.91</td>\n",
              "      <td>1995350</td>\n",
              "      <td>953.40</td>\n",
              "      <td>959.980</td>\n",
              "      <td>944.090</td>\n",
              "      <td>951.91</td>\n",
              "      <td>1995350</td>\n",
              "      <td>0.0</td>\n",
              "      <td>1.0</td>\n",
              "    </tr>\n",
              "    <tr>\n",
              "      <th>2017-06-14 00:00:00+00:00</th>\n",
              "      <td>950.76</td>\n",
              "      <td>961.150</td>\n",
              "      <td>942.250</td>\n",
              "      <td>959.92</td>\n",
              "      <td>1477033</td>\n",
              "      <td>950.76</td>\n",
              "      <td>961.150</td>\n",
              "      <td>942.250</td>\n",
              "      <td>959.92</td>\n",
              "      <td>1477033</td>\n",
              "      <td>0.0</td>\n",
              "      <td>1.0</td>\n",
              "    </tr>\n",
              "    <tr>\n",
              "      <th>2017-06-15 00:00:00+00:00</th>\n",
              "      <td>942.31</td>\n",
              "      <td>943.339</td>\n",
              "      <td>924.440</td>\n",
              "      <td>933.97</td>\n",
              "      <td>2055953</td>\n",
              "      <td>942.31</td>\n",
              "      <td>943.339</td>\n",
              "      <td>924.440</td>\n",
              "      <td>933.97</td>\n",
              "      <td>2055953</td>\n",
              "      <td>0.0</td>\n",
              "      <td>1.0</td>\n",
              "    </tr>\n",
              "    <tr>\n",
              "      <th>2017-06-16 00:00:00+00:00</th>\n",
              "      <td>939.78</td>\n",
              "      <td>942.040</td>\n",
              "      <td>931.595</td>\n",
              "      <td>940.00</td>\n",
              "      <td>2921393</td>\n",
              "      <td>939.78</td>\n",
              "      <td>942.040</td>\n",
              "      <td>931.595</td>\n",
              "      <td>940.00</td>\n",
              "      <td>2921393</td>\n",
              "      <td>0.0</td>\n",
              "      <td>1.0</td>\n",
              "    </tr>\n",
              "  </tbody>\n",
              "</table>\n",
              "</div>\n",
              "      <button class=\"colab-df-convert\" onclick=\"convertToInteractive('df-a88ac8b2-1b67-4295-9c88-5dc0596e0997')\"\n",
              "              title=\"Convert this dataframe to an interactive table.\"\n",
              "              style=\"display:none;\">\n",
              "        \n",
              "  <svg xmlns=\"http://www.w3.org/2000/svg\" height=\"24px\"viewBox=\"0 0 24 24\"\n",
              "       width=\"24px\">\n",
              "    <path d=\"M0 0h24v24H0V0z\" fill=\"none\"/>\n",
              "    <path d=\"M18.56 5.44l.94 2.06.94-2.06 2.06-.94-2.06-.94-.94-2.06-.94 2.06-2.06.94zm-11 1L8.5 8.5l.94-2.06 2.06-.94-2.06-.94L8.5 2.5l-.94 2.06-2.06.94zm10 10l.94 2.06.94-2.06 2.06-.94-2.06-.94-.94-2.06-.94 2.06-2.06.94z\"/><path d=\"M17.41 7.96l-1.37-1.37c-.4-.4-.92-.59-1.43-.59-.52 0-1.04.2-1.43.59L10.3 9.45l-7.72 7.72c-.78.78-.78 2.05 0 2.83L4 21.41c.39.39.9.59 1.41.59.51 0 1.02-.2 1.41-.59l7.78-7.78 2.81-2.81c.8-.78.8-2.07 0-2.86zM5.41 20L4 18.59l7.72-7.72 1.47 1.35L5.41 20z\"/>\n",
              "  </svg>\n",
              "      </button>\n",
              "      \n",
              "  <style>\n",
              "    .colab-df-container {\n",
              "      display:flex;\n",
              "      flex-wrap:wrap;\n",
              "      gap: 12px;\n",
              "    }\n",
              "\n",
              "    .colab-df-convert {\n",
              "      background-color: #E8F0FE;\n",
              "      border: none;\n",
              "      border-radius: 50%;\n",
              "      cursor: pointer;\n",
              "      display: none;\n",
              "      fill: #1967D2;\n",
              "      height: 32px;\n",
              "      padding: 0 0 0 0;\n",
              "      width: 32px;\n",
              "    }\n",
              "\n",
              "    .colab-df-convert:hover {\n",
              "      background-color: #E2EBFA;\n",
              "      box-shadow: 0px 1px 2px rgba(60, 64, 67, 0.3), 0px 1px 3px 1px rgba(60, 64, 67, 0.15);\n",
              "      fill: #174EA6;\n",
              "    }\n",
              "\n",
              "    [theme=dark] .colab-df-convert {\n",
              "      background-color: #3B4455;\n",
              "      fill: #D2E3FC;\n",
              "    }\n",
              "\n",
              "    [theme=dark] .colab-df-convert:hover {\n",
              "      background-color: #434B5C;\n",
              "      box-shadow: 0px 1px 3px 1px rgba(0, 0, 0, 0.15);\n",
              "      filter: drop-shadow(0px 1px 2px rgba(0, 0, 0, 0.3));\n",
              "      fill: #FFFFFF;\n",
              "    }\n",
              "  </style>\n",
              "\n",
              "      <script>\n",
              "        const buttonEl =\n",
              "          document.querySelector('#df-a88ac8b2-1b67-4295-9c88-5dc0596e0997 button.colab-df-convert');\n",
              "        buttonEl.style.display =\n",
              "          google.colab.kernel.accessAllowed ? 'block' : 'none';\n",
              "\n",
              "        async function convertToInteractive(key) {\n",
              "          const element = document.querySelector('#df-a88ac8b2-1b67-4295-9c88-5dc0596e0997');\n",
              "          const dataTable =\n",
              "            await google.colab.kernel.invokeFunction('convertToInteractive',\n",
              "                                                     [key], {});\n",
              "          if (!dataTable) return;\n",
              "\n",
              "          const docLinkHtml = 'Like what you see? Visit the ' +\n",
              "            '<a target=\"_blank\" href=https://colab.research.google.com/notebooks/data_table.ipynb>data table notebook</a>'\n",
              "            + ' to learn more about interactive tables.';\n",
              "          element.innerHTML = '';\n",
              "          dataTable['output_type'] = 'display_data';\n",
              "          await google.colab.output.renderOutput(dataTable, element);\n",
              "          const docLink = document.createElement('div');\n",
              "          docLink.innerHTML = docLinkHtml;\n",
              "          element.appendChild(docLink);\n",
              "        }\n",
              "      </script>\n",
              "    </div>\n",
              "  </div>\n",
              "  "
            ]
          },
          "metadata": {},
          "execution_count": 10
        }
      ]
    },
    {
      "cell_type": "code",
      "source": [
        "df.drop(df.iloc[:,5:].columns, inplace=True,axis=1)\n",
        "df.head()"
      ],
      "metadata": {
        "colab": {
          "base_uri": "https://localhost:8080/",
          "height": 238
        },
        "id": "m3tMqqF-2bXB",
        "outputId": "9f12a9f8-1aa4-4f5f-fdb5-deddaf5212eb"
      },
      "execution_count": null,
      "outputs": [
        {
          "output_type": "execute_result",
          "data": {
            "text/plain": [
              "                            close     high      low    open   volume\n",
              "date                                                                \n",
              "2017-06-12 00:00:00+00:00  942.90  949.355  915.233  939.56  3731589\n",
              "2017-06-13 00:00:00+00:00  953.40  959.980  944.090  951.91  1995350\n",
              "2017-06-14 00:00:00+00:00  950.76  961.150  942.250  959.92  1477033\n",
              "2017-06-15 00:00:00+00:00  942.31  943.339  924.440  933.97  2055953\n",
              "2017-06-16 00:00:00+00:00  939.78  942.040  931.595  940.00  2921393"
            ],
            "text/html": [
              "\n",
              "  <div id=\"df-ec0f64c6-7f86-46c8-919b-d94ad3c6d88f\">\n",
              "    <div class=\"colab-df-container\">\n",
              "      <div>\n",
              "<style scoped>\n",
              "    .dataframe tbody tr th:only-of-type {\n",
              "        vertical-align: middle;\n",
              "    }\n",
              "\n",
              "    .dataframe tbody tr th {\n",
              "        vertical-align: top;\n",
              "    }\n",
              "\n",
              "    .dataframe thead th {\n",
              "        text-align: right;\n",
              "    }\n",
              "</style>\n",
              "<table border=\"1\" class=\"dataframe\">\n",
              "  <thead>\n",
              "    <tr style=\"text-align: right;\">\n",
              "      <th></th>\n",
              "      <th>close</th>\n",
              "      <th>high</th>\n",
              "      <th>low</th>\n",
              "      <th>open</th>\n",
              "      <th>volume</th>\n",
              "    </tr>\n",
              "    <tr>\n",
              "      <th>date</th>\n",
              "      <th></th>\n",
              "      <th></th>\n",
              "      <th></th>\n",
              "      <th></th>\n",
              "      <th></th>\n",
              "    </tr>\n",
              "  </thead>\n",
              "  <tbody>\n",
              "    <tr>\n",
              "      <th>2017-06-12 00:00:00+00:00</th>\n",
              "      <td>942.90</td>\n",
              "      <td>949.355</td>\n",
              "      <td>915.233</td>\n",
              "      <td>939.56</td>\n",
              "      <td>3731589</td>\n",
              "    </tr>\n",
              "    <tr>\n",
              "      <th>2017-06-13 00:00:00+00:00</th>\n",
              "      <td>953.40</td>\n",
              "      <td>959.980</td>\n",
              "      <td>944.090</td>\n",
              "      <td>951.91</td>\n",
              "      <td>1995350</td>\n",
              "    </tr>\n",
              "    <tr>\n",
              "      <th>2017-06-14 00:00:00+00:00</th>\n",
              "      <td>950.76</td>\n",
              "      <td>961.150</td>\n",
              "      <td>942.250</td>\n",
              "      <td>959.92</td>\n",
              "      <td>1477033</td>\n",
              "    </tr>\n",
              "    <tr>\n",
              "      <th>2017-06-15 00:00:00+00:00</th>\n",
              "      <td>942.31</td>\n",
              "      <td>943.339</td>\n",
              "      <td>924.440</td>\n",
              "      <td>933.97</td>\n",
              "      <td>2055953</td>\n",
              "    </tr>\n",
              "    <tr>\n",
              "      <th>2017-06-16 00:00:00+00:00</th>\n",
              "      <td>939.78</td>\n",
              "      <td>942.040</td>\n",
              "      <td>931.595</td>\n",
              "      <td>940.00</td>\n",
              "      <td>2921393</td>\n",
              "    </tr>\n",
              "  </tbody>\n",
              "</table>\n",
              "</div>\n",
              "      <button class=\"colab-df-convert\" onclick=\"convertToInteractive('df-ec0f64c6-7f86-46c8-919b-d94ad3c6d88f')\"\n",
              "              title=\"Convert this dataframe to an interactive table.\"\n",
              "              style=\"display:none;\">\n",
              "        \n",
              "  <svg xmlns=\"http://www.w3.org/2000/svg\" height=\"24px\"viewBox=\"0 0 24 24\"\n",
              "       width=\"24px\">\n",
              "    <path d=\"M0 0h24v24H0V0z\" fill=\"none\"/>\n",
              "    <path d=\"M18.56 5.44l.94 2.06.94-2.06 2.06-.94-2.06-.94-.94-2.06-.94 2.06-2.06.94zm-11 1L8.5 8.5l.94-2.06 2.06-.94-2.06-.94L8.5 2.5l-.94 2.06-2.06.94zm10 10l.94 2.06.94-2.06 2.06-.94-2.06-.94-.94-2.06-.94 2.06-2.06.94z\"/><path d=\"M17.41 7.96l-1.37-1.37c-.4-.4-.92-.59-1.43-.59-.52 0-1.04.2-1.43.59L10.3 9.45l-7.72 7.72c-.78.78-.78 2.05 0 2.83L4 21.41c.39.39.9.59 1.41.59.51 0 1.02-.2 1.41-.59l7.78-7.78 2.81-2.81c.8-.78.8-2.07 0-2.86zM5.41 20L4 18.59l7.72-7.72 1.47 1.35L5.41 20z\"/>\n",
              "  </svg>\n",
              "      </button>\n",
              "      \n",
              "  <style>\n",
              "    .colab-df-container {\n",
              "      display:flex;\n",
              "      flex-wrap:wrap;\n",
              "      gap: 12px;\n",
              "    }\n",
              "\n",
              "    .colab-df-convert {\n",
              "      background-color: #E8F0FE;\n",
              "      border: none;\n",
              "      border-radius: 50%;\n",
              "      cursor: pointer;\n",
              "      display: none;\n",
              "      fill: #1967D2;\n",
              "      height: 32px;\n",
              "      padding: 0 0 0 0;\n",
              "      width: 32px;\n",
              "    }\n",
              "\n",
              "    .colab-df-convert:hover {\n",
              "      background-color: #E2EBFA;\n",
              "      box-shadow: 0px 1px 2px rgba(60, 64, 67, 0.3), 0px 1px 3px 1px rgba(60, 64, 67, 0.15);\n",
              "      fill: #174EA6;\n",
              "    }\n",
              "\n",
              "    [theme=dark] .colab-df-convert {\n",
              "      background-color: #3B4455;\n",
              "      fill: #D2E3FC;\n",
              "    }\n",
              "\n",
              "    [theme=dark] .colab-df-convert:hover {\n",
              "      background-color: #434B5C;\n",
              "      box-shadow: 0px 1px 3px 1px rgba(0, 0, 0, 0.15);\n",
              "      filter: drop-shadow(0px 1px 2px rgba(0, 0, 0, 0.3));\n",
              "      fill: #FFFFFF;\n",
              "    }\n",
              "  </style>\n",
              "\n",
              "      <script>\n",
              "        const buttonEl =\n",
              "          document.querySelector('#df-ec0f64c6-7f86-46c8-919b-d94ad3c6d88f button.colab-df-convert');\n",
              "        buttonEl.style.display =\n",
              "          google.colab.kernel.accessAllowed ? 'block' : 'none';\n",
              "\n",
              "        async function convertToInteractive(key) {\n",
              "          const element = document.querySelector('#df-ec0f64c6-7f86-46c8-919b-d94ad3c6d88f');\n",
              "          const dataTable =\n",
              "            await google.colab.kernel.invokeFunction('convertToInteractive',\n",
              "                                                     [key], {});\n",
              "          if (!dataTable) return;\n",
              "\n",
              "          const docLinkHtml = 'Like what you see? Visit the ' +\n",
              "            '<a target=\"_blank\" href=https://colab.research.google.com/notebooks/data_table.ipynb>data table notebook</a>'\n",
              "            + ' to learn more about interactive tables.';\n",
              "          element.innerHTML = '';\n",
              "          dataTable['output_type'] = 'display_data';\n",
              "          await google.colab.output.renderOutput(dataTable, element);\n",
              "          const docLink = document.createElement('div');\n",
              "          docLink.innerHTML = docLinkHtml;\n",
              "          element.appendChild(docLink);\n",
              "        }\n",
              "      </script>\n",
              "    </div>\n",
              "  </div>\n",
              "  "
            ]
          },
          "metadata": {},
          "execution_count": 11
        }
      ]
    },
    {
      "cell_type": "code",
      "source": [
        "from sklearn.preprocessing import MinMaxScaler\n",
        "\n",
        "scaler = MinMaxScaler()\n",
        "\n",
        "df1 = scaler.fit_transform(df)\n",
        "df1[:10,:]\n"
      ],
      "metadata": {
        "colab": {
          "base_uri": "https://localhost:8080/"
        },
        "id": "QKKbcR6z19Uu",
        "outputId": "d09e28fc-ac7c-42a5-de96-bdc34928beb6"
      },
      "execution_count": null,
      "outputs": [
        {
          "output_type": "execute_result",
          "data": {
            "text/plain": [
              "array([[0.0208936 , 0.01707609, 0.00972106, 0.01770069, 0.57759006],\n",
              "       [0.02585702, 0.0220667 , 0.02344315, 0.02348385, 0.28131739],\n",
              "       [0.02460907, 0.02261625, 0.02256819, 0.02723471, 0.19287153],\n",
              "       [0.02061471, 0.01425035, 0.01409917, 0.01508305, 0.29165872],\n",
              "       [0.01941876, 0.01364021, 0.01750152, 0.01790673, 0.43933782],\n",
              "       [0.02773366, 0.0220714 , 0.02580173, 0.02257072, 0.19579938],\n",
              "       [0.02454762, 0.02283701, 0.02625823, 0.02611086, 0.13055482],\n",
              "       [0.02871689, 0.02212306, 0.02661487, 0.02429396, 0.14429172],\n",
              "       [0.0276013 , 0.02241428, 0.02841709, 0.02666342, 0.1012956 ],\n",
              "       [0.0316193 , 0.02489432, 0.02825066, 0.02578775, 0.1787041 ]])"
            ]
          },
          "metadata": {},
          "execution_count": 12
        }
      ]
    },
    {
      "cell_type": "code",
      "source": [
        "df1.shape"
      ],
      "metadata": {
        "colab": {
          "base_uri": "https://localhost:8080/"
        },
        "id": "oQTolFCpFfCA",
        "outputId": "557d4c2a-f85d-4a8f-d8cc-6b5b72d9051c"
      },
      "execution_count": null,
      "outputs": [
        {
          "output_type": "execute_result",
          "data": {
            "text/plain": [
              "(1259, 5)"
            ]
          },
          "metadata": {},
          "execution_count": 13
        }
      ]
    },
    {
      "cell_type": "code",
      "source": [
        "# data format in trainY list\n",
        "n_future=3\n",
        "# here 14 is n_past\n",
        "\n",
        "# (t, t+1, ...., t+n_future)\n",
        "for i in range(10):\n",
        "  print(df1[i+14:(i+14+n_future), 0])"
      ],
      "metadata": {
        "id": "fkncy0321uBI",
        "colab": {
          "base_uri": "https://localhost:8080/"
        },
        "outputId": "79144b90-e453-4133-ba6a-430ca759fe1e"
      },
      "execution_count": null,
      "outputs": [
        {
          "output_type": "stream",
          "name": "stdout",
          "text": [
            "[0.00474124 0.         0.0061499 ]\n",
            "[0.         0.0061499  0.00377692]\n",
            "[0.0061499  0.00377692 0.00940212]\n",
            "[0.00377692 0.00940212 0.01422845]\n",
            "[0.00940212 0.01422845 0.01483824]\n",
            "[0.01422845 0.01483824 0.02133322]\n",
            "[0.01483824 0.02133322 0.02290733]\n",
            "[0.02133322 0.02290733 0.02708132]\n",
            "[0.02290733 0.02708132 0.02586647]\n",
            "[0.02708132 0.02586647 0.03152949]\n"
          ]
        }
      ]
    },
    {
      "cell_type": "code",
      "source": [
        "for i in range(14,25,1):\n",
        "  print(df1[i,0])\n"
      ],
      "metadata": {
        "id": "yN7g8Tqg1uDi",
        "colab": {
          "base_uri": "https://localhost:8080/"
        },
        "outputId": "76dda5cb-ce8f-4843-df7a-00f527952269"
      },
      "execution_count": null,
      "outputs": [
        {
          "output_type": "stream",
          "name": "stdout",
          "text": [
            "0.004741240758598497\n",
            "0.0\n",
            "0.006149904513396476\n",
            "0.003776920604307288\n",
            "0.009402121504339445\n",
            "0.01422844933537537\n",
            "0.01483824002117723\n",
            "0.02133321988390341\n",
            "0.022907330723996422\n",
            "0.027081324333011858\n",
            "0.02586647002098813\n"
          ]
        }
      ]
    },
    {
      "cell_type": "code",
      "source": [
        "# data format in trainX list\n",
        "\n",
        "# here 14 is n_past\n",
        "\n",
        "# (t-n_past, t-n_past-1, ...., t-1)\n",
        "n_past=14\n",
        "for i in range(2):\n",
        "  print(df1[i:i+n_past,:])"
      ],
      "metadata": {
        "colab": {
          "base_uri": "https://localhost:8080/"
        },
        "id": "uGq79hwaLIJp",
        "outputId": "63644791-5e47-403e-fb7a-72b810be5f62"
      },
      "execution_count": null,
      "outputs": [
        {
          "output_type": "stream",
          "name": "stdout",
          "text": [
            "[[0.0208936  0.01707609 0.00972106 0.01770069 0.57759006]\n",
            " [0.02585702 0.0220667  0.02344315 0.02348385 0.28131739]\n",
            " [0.02460907 0.02261625 0.02256819 0.02723471 0.19287153]\n",
            " [0.02061471 0.01425035 0.01409917 0.01508305 0.29165872]\n",
            " [0.01941876 0.01364021 0.01750152 0.01790673 0.43933782]\n",
            " [0.02773366 0.0220714  0.02580173 0.02257072 0.19579938]\n",
            " [0.02454762 0.02283701 0.02625823 0.02611086 0.13055482]\n",
            " [0.02871689 0.02212306 0.02661487 0.02429396 0.14429172]\n",
            " [0.0276013  0.02241428 0.02841709 0.02666342 0.1012956 ]\n",
            " [0.0316193  0.02489432 0.02825066 0.02578775 0.1787041 ]\n",
            " [0.02532286 0.02832785 0.02662913 0.03190807 0.2106178 ]\n",
            " [0.01353357 0.01657586 0.01524518 0.01905868 0.37660662]\n",
            " [0.01975438 0.0139737  0.01008578 0.01275574 0.40364478]\n",
            " [0.00902396 0.0085768  0.00752749 0.01318655 0.49513726]]\n",
            "[[0.02585702 0.0220667  0.02344315 0.02348385 0.28131739]\n",
            " [0.02460907 0.02261625 0.02256819 0.02723471 0.19287153]\n",
            " [0.02061471 0.01425035 0.01409917 0.01508305 0.29165872]\n",
            " [0.01941876 0.01364021 0.01750152 0.01790673 0.43933782]\n",
            " [0.02773366 0.0220714  0.02580173 0.02257072 0.19579938]\n",
            " [0.02454762 0.02283701 0.02625823 0.02611086 0.13055482]\n",
            " [0.02871689 0.02212306 0.02661487 0.02429396 0.14429172]\n",
            " [0.0276013  0.02241428 0.02841709 0.02666342 0.1012956 ]\n",
            " [0.0316193  0.02489432 0.02825066 0.02578775 0.1787041 ]\n",
            " [0.02532286 0.02832785 0.02662913 0.03190807 0.2106178 ]\n",
            " [0.01353357 0.01657586 0.01524518 0.01905868 0.37660662]\n",
            " [0.01975438 0.0139737  0.01008578 0.01275574 0.40364478]\n",
            " [0.00902396 0.0085768  0.00752749 0.01318655 0.49513726]\n",
            " [0.00474124 0.00612964 0.00642903 0.01137433 0.28824215]]\n"
          ]
        }
      ]
    },
    {
      "cell_type": "code",
      "source": [
        "trainX, trainY = list(), list()\n",
        "\n",
        "n_past = 14 #14days back for single training as a row  (None, 14, 5) will be its shape\n",
        "n_future = 1 #no of days t predict\n",
        "\n",
        "\n",
        "for i in range(0, len(df1)-n_future+1-n_past): # (-n_future+1 will sustain as no NaN value happen and -n_past ascertain that i+n_past>len(df1))\n",
        "  trainX.append(df1[i:i+n_past,:])\n",
        "  trainY.append(df1[i+n_past:i+n_past+n_future, 0]) # here 0 is taken for col1 only can be changed accord to the target var\n"
      ],
      "metadata": {
        "id": "HPc3Oohb1t6c"
      },
      "execution_count": null,
      "outputs": []
    },
    {
      "cell_type": "code",
      "source": [
        "trainX, trainY = np.array(trainX), np.array(trainY)"
      ],
      "metadata": {
        "id": "fJNc1QSvSkoe"
      },
      "execution_count": null,
      "outputs": []
    },
    {
      "cell_type": "code",
      "source": [
        "(trainX.shape, trainY.shape)"
      ],
      "metadata": {
        "id": "be6xAjzH1uFz",
        "colab": {
          "base_uri": "https://localhost:8080/"
        },
        "outputId": "e6094e4a-431f-49fc-d4fd-2faea90629e1"
      },
      "execution_count": null,
      "outputs": [
        {
          "output_type": "execute_result",
          "data": {
            "text/plain": [
              "((1245, 14, 5), (1245, 1))"
            ]
          },
          "metadata": {},
          "execution_count": 19
        }
      ]
    },
    {
      "cell_type": "code",
      "source": [],
      "metadata": {
        "id": "x1iCwQhp1uKL"
      },
      "execution_count": null,
      "outputs": []
    },
    {
      "cell_type": "code",
      "source": [],
      "metadata": {
        "id": "vucNiQ-W1uMM"
      },
      "execution_count": null,
      "outputs": []
    },
    {
      "cell_type": "code",
      "source": [],
      "metadata": {
        "id": "0g7ZW2Cd1uOk"
      },
      "execution_count": null,
      "outputs": []
    },
    {
      "cell_type": "code",
      "source": [
        "# x1 x2 y1 y2\n",
        "#  1  2  3  4\n",
        "#  2  3  4  5\n",
        "#  3  4  5  6\n",
        "#  4  5  6  7\n",
        "#  5  6  7  8\n",
        "#  6  7  8  9\n",
        "#  7  8  9  10\n",
        "#  8  9  10 NaN"
      ],
      "metadata": {
        "id": "-3szeWF41t_D"
      },
      "execution_count": null,
      "outputs": []
    },
    {
      "cell_type": "code",
      "source": [
        "with tf.device('/GPU:0'):\n",
        "  model = Sequential()\n",
        "  model.add(LSTM(100, activation='relu', input_shape=(trainX.shape[1], trainX.shape[2]), return_sequences=True))\n",
        "  model.add(LSTM(50, activation='relu', return_sequences=False))\n",
        "  model.add(Dropout(0.2))\n",
        "  model.add(Dense(trainY.shape[1]))\n",
        "\n",
        "\n",
        "  model.compile(loss='mse', optimizer='adam')\n",
        "  model.summary()"
      ],
      "metadata": {
        "id": "B9lMcrQO1uRI",
        "colab": {
          "base_uri": "https://localhost:8080/"
        },
        "outputId": "530ba13f-fd0f-48a8-ad9f-8153b3034994"
      },
      "execution_count": null,
      "outputs": [
        {
          "output_type": "stream",
          "name": "stdout",
          "text": [
            "WARNING:tensorflow:Layer lstm will not use cuDNN kernels since it doesn't meet the criteria. It will use a generic GPU kernel as fallback when running on GPU.\n",
            "WARNING:tensorflow:Layer lstm_1 will not use cuDNN kernels since it doesn't meet the criteria. It will use a generic GPU kernel as fallback when running on GPU.\n",
            "Model: \"sequential\"\n",
            "_________________________________________________________________\n",
            " Layer (type)                Output Shape              Param #   \n",
            "=================================================================\n",
            " lstm (LSTM)                 (None, 14, 100)           42400     \n",
            "                                                                 \n",
            " lstm_1 (LSTM)               (None, 50)                30200     \n",
            "                                                                 \n",
            " dropout (Dropout)           (None, 50)                0         \n",
            "                                                                 \n",
            " dense (Dense)               (None, 1)                 51        \n",
            "                                                                 \n",
            "=================================================================\n",
            "Total params: 72,651\n",
            "Trainable params: 72,651\n",
            "Non-trainable params: 0\n",
            "_________________________________________________________________\n"
          ]
        }
      ]
    },
    {
      "cell_type": "code",
      "source": [
        "# Defining callbacks\n",
        "import os\n",
        "path = '/content/drive/MyDrive/GoogleStock/MultivariateModel/'\n",
        "\n",
        "if not os.path.exists(path):\n",
        "  os.makedirs(path)\n",
        "\n",
        "filepath = '/content/drive/MyDrive/GoogleStock/MultivariateModel/best_weights.hdf5'\n",
        "\n",
        "earlystopping = EarlyStopping(monitor = 'val_loss', \n",
        "                              mode = 'min' , \n",
        "                              patience = 10)\n",
        "\n",
        "checkpoint    = ModelCheckpoint(filepath, \n",
        "                                monitor = 'val_loss', \n",
        "                                mode='min', \n",
        "                                save_best_only=True, \n",
        "                                verbose = 1)\n",
        "\n",
        "callback_list = [earlystopping, checkpoint]"
      ],
      "metadata": {
        "id": "7GGFgf3CLb8_"
      },
      "execution_count": null,
      "outputs": []
    },
    {
      "cell_type": "code",
      "source": [],
      "metadata": {
        "id": "uOVXAIu2LcAK"
      },
      "execution_count": null,
      "outputs": []
    },
    {
      "cell_type": "code",
      "source": [
        "with tf.device('/GPU:0'):\n",
        "  history = model.fit(trainX,\n",
        "                      trainY,\n",
        "                      epochs=20,\n",
        "                      batch_size=16,\n",
        "                      validation_split=0.2,\n",
        "                      callbacks=callback_list,\n",
        "                      verbose=1)"
      ],
      "metadata": {
        "id": "aITQg8xo1uTl",
        "colab": {
          "base_uri": "https://localhost:8080/"
        },
        "outputId": "56123b00-853c-4eda-ada8-e245cd9603ae"
      },
      "execution_count": null,
      "outputs": [
        {
          "output_type": "stream",
          "name": "stdout",
          "text": [
            "Epoch 1/20\n",
            "63/63 [==============================] - ETA: 0s - loss: 0.0060\n",
            "Epoch 1: val_loss improved from inf to 0.00325, saving model to /content/drive/MyDrive/GoogleStock/MultivariateModel/best_weights.hdf5\n",
            "63/63 [==============================] - 8s 61ms/step - loss: 0.0060 - val_loss: 0.0032\n",
            "Epoch 2/20\n",
            "63/63 [==============================] - ETA: 0s - loss: 0.0018\n",
            "Epoch 2: val_loss improved from 0.00325 to 0.00224, saving model to /content/drive/MyDrive/GoogleStock/MultivariateModel/best_weights.hdf5\n",
            "63/63 [==============================] - 3s 56ms/step - loss: 0.0018 - val_loss: 0.0022\n",
            "Epoch 3/20\n",
            "63/63 [==============================] - ETA: 0s - loss: 0.0016\n",
            "Epoch 3: val_loss did not improve from 0.00224\n",
            "63/63 [==============================] - 4s 57ms/step - loss: 0.0016 - val_loss: 0.0034\n",
            "Epoch 4/20\n",
            "63/63 [==============================] - ETA: 0s - loss: 0.0012\n",
            "Epoch 4: val_loss improved from 0.00224 to 0.00208, saving model to /content/drive/MyDrive/GoogleStock/MultivariateModel/best_weights.hdf5\n",
            "63/63 [==============================] - 4s 56ms/step - loss: 0.0012 - val_loss: 0.0021\n",
            "Epoch 5/20\n",
            "63/63 [==============================] - ETA: 0s - loss: 0.0015\n",
            "Epoch 5: val_loss did not improve from 0.00208\n",
            "63/63 [==============================] - 3s 54ms/step - loss: 0.0015 - val_loss: 0.0045\n",
            "Epoch 6/20\n",
            "62/63 [============================>.] - ETA: 0s - loss: 0.0013\n",
            "Epoch 6: val_loss did not improve from 0.00208\n",
            "63/63 [==============================] - 3s 53ms/step - loss: 0.0013 - val_loss: 0.0022\n",
            "Epoch 7/20\n",
            "63/63 [==============================] - ETA: 0s - loss: 0.0013\n",
            "Epoch 7: val_loss did not improve from 0.00208\n",
            "63/63 [==============================] - 5s 85ms/step - loss: 0.0013 - val_loss: 0.0027\n",
            "Epoch 8/20\n",
            "63/63 [==============================] - ETA: 0s - loss: 0.0014\n",
            "Epoch 8: val_loss did not improve from 0.00208\n",
            "63/63 [==============================] - 3s 54ms/step - loss: 0.0014 - val_loss: 0.0036\n",
            "Epoch 9/20\n",
            "63/63 [==============================] - ETA: 0s - loss: 0.0013\n",
            "Epoch 9: val_loss did not improve from 0.00208\n",
            "63/63 [==============================] - 3s 55ms/step - loss: 0.0013 - val_loss: 0.0023\n",
            "Epoch 10/20\n",
            "63/63 [==============================] - ETA: 0s - loss: 0.0012\n",
            "Epoch 10: val_loss did not improve from 0.00208\n",
            "63/63 [==============================] - 3s 55ms/step - loss: 0.0012 - val_loss: 0.0037\n",
            "Epoch 11/20\n",
            "63/63 [==============================] - ETA: 0s - loss: 0.0011\n",
            "Epoch 11: val_loss improved from 0.00208 to 0.00160, saving model to /content/drive/MyDrive/GoogleStock/MultivariateModel/best_weights.hdf5\n",
            "63/63 [==============================] - 4s 59ms/step - loss: 0.0011 - val_loss: 0.0016\n",
            "Epoch 12/20\n",
            "63/63 [==============================] - ETA: 0s - loss: 0.0011\n",
            "Epoch 12: val_loss did not improve from 0.00160\n",
            "63/63 [==============================] - 4s 56ms/step - loss: 0.0011 - val_loss: 0.0021\n",
            "Epoch 13/20\n",
            "62/63 [============================>.] - ETA: 0s - loss: 0.0012\n",
            "Epoch 13: val_loss did not improve from 0.00160\n",
            "63/63 [==============================] - 4s 64ms/step - loss: 0.0012 - val_loss: 0.0022\n",
            "Epoch 14/20\n",
            "63/63 [==============================] - ETA: 0s - loss: 0.0011\n",
            "Epoch 14: val_loss did not improve from 0.00160\n",
            "63/63 [==============================] - 3s 55ms/step - loss: 0.0011 - val_loss: 0.0027\n",
            "Epoch 15/20\n",
            "63/63 [==============================] - ETA: 0s - loss: 0.0010\n",
            "Epoch 15: val_loss did not improve from 0.00160\n",
            "63/63 [==============================] - 4s 57ms/step - loss: 0.0010 - val_loss: 0.0040\n",
            "Epoch 16/20\n",
            "63/63 [==============================] - ETA: 0s - loss: 0.0010\n",
            "Epoch 16: val_loss improved from 0.00160 to 0.00141, saving model to /content/drive/MyDrive/GoogleStock/MultivariateModel/best_weights.hdf5\n",
            "63/63 [==============================] - 5s 74ms/step - loss: 0.0010 - val_loss: 0.0014\n",
            "Epoch 17/20\n",
            "63/63 [==============================] - ETA: 0s - loss: 8.2499e-04\n",
            "Epoch 17: val_loss did not improve from 0.00141\n",
            "63/63 [==============================] - 4s 56ms/step - loss: 8.2499e-04 - val_loss: 0.0067\n",
            "Epoch 18/20\n",
            "63/63 [==============================] - ETA: 0s - loss: 0.0011\n",
            "Epoch 18: val_loss did not improve from 0.00141\n",
            "63/63 [==============================] - 4s 58ms/step - loss: 0.0011 - val_loss: 0.0022\n",
            "Epoch 19/20\n",
            "62/63 [============================>.] - ETA: 0s - loss: 9.5094e-04\n",
            "Epoch 19: val_loss did not improve from 0.00141\n",
            "63/63 [==============================] - 4s 58ms/step - loss: 9.4753e-04 - val_loss: 0.0079\n",
            "Epoch 20/20\n",
            "63/63 [==============================] - ETA: 0s - loss: 8.2269e-04\n",
            "Epoch 20: val_loss did not improve from 0.00141\n",
            "63/63 [==============================] - 4s 59ms/step - loss: 8.2269e-04 - val_loss: 0.0017\n"
          ]
        }
      ]
    },
    {
      "cell_type": "code",
      "source": [],
      "metadata": {
        "id": "DN9tGrz3Kyvp"
      },
      "execution_count": null,
      "outputs": []
    },
    {
      "cell_type": "code",
      "source": [
        "history.history.keys()"
      ],
      "metadata": {
        "id": "Z0cFYlQ61uVr",
        "colab": {
          "base_uri": "https://localhost:8080/"
        },
        "outputId": "fe880c8a-19c8-42e2-e8f3-bf0b64884493"
      },
      "execution_count": null,
      "outputs": [
        {
          "output_type": "execute_result",
          "data": {
            "text/plain": [
              "dict_keys(['loss', 'val_loss'])"
            ]
          },
          "metadata": {},
          "execution_count": 24
        }
      ]
    },
    {
      "cell_type": "code",
      "source": [
        "plt.plot(history.history['loss'], label='train_loss')\n",
        "plt.plot(history.history['val_loss'], label='val_loss')\n",
        "plt.legend()"
      ],
      "metadata": {
        "id": "nJ9zh3v41uYA",
        "colab": {
          "base_uri": "https://localhost:8080/",
          "height": 282
        },
        "outputId": "1070bc04-176f-4597-b4a1-18231dfb5eb7"
      },
      "execution_count": null,
      "outputs": [
        {
          "output_type": "execute_result",
          "data": {
            "text/plain": [
              "<matplotlib.legend.Legend at 0x7f9c47b77210>"
            ]
          },
          "metadata": {},
          "execution_count": 25
        },
        {
          "output_type": "display_data",
          "data": {
            "text/plain": [
              "<Figure size 432x288 with 1 Axes>"
            ],
            "image/png": "[encoded data removed]"
          },
          "metadata": {
            "needs_background": "light"
          }
        }
      ]
    },
    {
      "cell_type": "code",
      "source": [
        "train_dates = pd.to_datetime(df.reset_index()['date'])\n",
        "train_dates"
      ],
      "metadata": {
        "colab": {
          "base_uri": "https://localhost:8080/"
        },
        "id": "vEYj3U2dM6QW",
        "outputId": "76e03430-b3a8-430e-a44a-94eff177284f"
      },
      "execution_count": null,
      "outputs": [
        {
          "output_type": "execute_result",
          "data": {
            "text/plain": [
              "0      2017-06-12 00:00:00+00:00\n",
              "1      2017-06-13 00:00:00+00:00\n",
              "2      2017-06-14 00:00:00+00:00\n",
              "3      2017-06-15 00:00:00+00:00\n",
              "4      2017-06-16 00:00:00+00:00\n",
              "                  ...           \n",
              "1254   2022-06-03 00:00:00+00:00\n",
              "1255   2022-06-06 00:00:00+00:00\n",
              "1256   2022-06-07 00:00:00+00:00\n",
              "1257   2022-06-08 00:00:00+00:00\n",
              "1258   2022-06-09 00:00:00+00:00\n",
              "Name: date, Length: 1259, dtype: datetime64[ns, UTC]"
            ]
          },
          "metadata": {},
          "execution_count": 32
        }
      ]
    },
    {
      "cell_type": "code",
      "source": [
        "list(train_dates)[-1]"
      ],
      "metadata": {
        "colab": {
          "base_uri": "https://localhost:8080/"
        },
        "id": "hMSzpyhhM6Sz",
        "outputId": "6a112a96-49f3-455c-9cbb-0a31e2b2ebd5"
      },
      "execution_count": null,
      "outputs": [
        {
          "output_type": "execute_result",
          "data": {
            "text/plain": [
              "Timestamp('2022-06-09 00:00:00+0000', tz='UTC')"
            ]
          },
          "metadata": {},
          "execution_count": 34
        }
      ]
    },
    {
      "cell_type": "code",
      "source": [
        "# Forecasting\n",
        "\n",
        "n_future = 90\n",
        "train_dates = pd.to_datetime(df.reset_index()['date'])\n",
        "forecast_dates = pd.date_range(list(train_dates)[-2], periods=n_future, freq='1d').tolist()\n",
        "\n",
        "forecast_dates[:10]\n"
      ],
      "metadata": {
        "id": "5gxDopxr1uaJ",
        "colab": {
          "base_uri": "https://localhost:8080/"
        },
        "outputId": "1486dd9d-c6e7-430f-9cc1-0412f913e31e"
      },
      "execution_count": null,
      "outputs": [
        {
          "output_type": "execute_result",
          "data": {
            "text/plain": [
              "[Timestamp('2022-06-08 00:00:00+0000', tz='UTC', freq='D'),\n",
              " Timestamp('2022-06-09 00:00:00+0000', tz='UTC', freq='D'),\n",
              " Timestamp('2022-06-10 00:00:00+0000', tz='UTC', freq='D'),\n",
              " Timestamp('2022-06-11 00:00:00+0000', tz='UTC', freq='D'),\n",
              " Timestamp('2022-06-12 00:00:00+0000', tz='UTC', freq='D'),\n",
              " Timestamp('2022-06-13 00:00:00+0000', tz='UTC', freq='D'),\n",
              " Timestamp('2022-06-14 00:00:00+0000', tz='UTC', freq='D'),\n",
              " Timestamp('2022-06-15 00:00:00+0000', tz='UTC', freq='D'),\n",
              " Timestamp('2022-06-16 00:00:00+0000', tz='UTC', freq='D'),\n",
              " Timestamp('2022-06-17 00:00:00+0000', tz='UTC', freq='D')]"
            ]
          },
          "metadata": {},
          "execution_count": 86
        }
      ]
    },
    {
      "cell_type": "code",
      "source": [
        "trainX[-2:,:]"
      ],
      "metadata": {
        "colab": {
          "base_uri": "https://localhost:8080/"
        },
        "id": "og53kee0PUts",
        "outputId": "03b13a48-e73e-4da4-fbad-fa60fb376134"
      },
      "execution_count": null,
      "outputs": [
        {
          "output_type": "execute_result",
          "data": {
            "text/plain": [
              "array([[[0.6378316 , 0.65801475, 0.64102503, 0.65698124, 0.17957949],\n",
              "        [0.62218031, 0.63821043, 0.62510461, 0.6251715 , 0.18989453],\n",
              "        [0.60863728, 0.62846407, 0.58615951, 0.62746136, 0.26151473],\n",
              "        [0.63088755, 0.62334899, 0.61261032, 0.60890373, 0.2100854 ],\n",
              "        [0.57661618, 0.57064349, 0.54654867, 0.5740034 , 0.45604796],\n",
              "        [0.5757984 , 0.57204969, 0.56560039, 0.56243239, 0.26418799],\n",
              "        [0.59902244, 0.59469469, 0.5777428 , 0.5709409 , 0.19924341],\n",
              "        [0.64159434, 0.63145139, 0.61637406, 0.60594893, 0.19614578],\n",
              "        [0.65331745, 0.66494598, 0.64511926, 0.63676592, 0.37853913],\n",
              "        [0.65424395, 0.67401597, 0.65442044, 0.65411541, 0.18509561],\n",
              "        [0.68836387, 0.67870362, 0.65211416, 0.6471522 , 0.17542132],\n",
              "        [0.65828086, 0.66429779, 0.65553791, 0.66405215, 0.15372165],\n",
              "        [0.68141037, 0.69279925, 0.68274042, 0.67107623, 0.14377877],\n",
              "        [0.68348082, 0.67730038, 0.66939937, 0.66082575, 0.16619086]],\n",
              "\n",
              "       [[0.62218031, 0.63821043, 0.62510461, 0.6251715 , 0.18989453],\n",
              "        [0.60863728, 0.62846407, 0.58615951, 0.62746136, 0.26151473],\n",
              "        [0.63088755, 0.62334899, 0.61261032, 0.60890373, 0.2100854 ],\n",
              "        [0.57661618, 0.57064349, 0.54654867, 0.5740034 , 0.45604796],\n",
              "        [0.5757984 , 0.57204969, 0.56560039, 0.56243239, 0.26418799],\n",
              "        [0.59902244, 0.59469469, 0.5777428 , 0.5709409 , 0.19924341],\n",
              "        [0.64159434, 0.63145139, 0.61637406, 0.60594893, 0.19614578],\n",
              "        [0.65331745, 0.66494598, 0.64511926, 0.63676592, 0.37853913],\n",
              "        [0.65424395, 0.67401597, 0.65442044, 0.65411541, 0.18509561],\n",
              "        [0.68836387, 0.67870362, 0.65211416, 0.6471522 , 0.17542132],\n",
              "        [0.65828086, 0.66429779, 0.65553791, 0.66405215, 0.15372165],\n",
              "        [0.68141037, 0.69279925, 0.68274042, 0.67107623, 0.14377877],\n",
              "        [0.68348082, 0.67730038, 0.66939937, 0.66082575, 0.16619086],\n",
              "        [0.68356118, 0.68573039, 0.68434255, 0.6723312 , 0.13317807]]])"
            ]
          },
          "metadata": {},
          "execution_count": 43
        }
      ]
    },
    {
      "cell_type": "code",
      "source": [
        "# n_future = 90 days\n",
        "forecast = model.predict(trainX[-n_future:, :])"
      ],
      "metadata": {
        "id": "LlNQ8gOIOwgK"
      },
      "execution_count": null,
      "outputs": []
    },
    {
      "cell_type": "code",
      "source": [
        "forecast[:10,:]"
      ],
      "metadata": {
        "colab": {
          "base_uri": "https://localhost:8080/"
        },
        "id": "TQnzKkobQpn1",
        "outputId": "6b4016c9-d19a-42e1-bef8-25a2b5681781"
      },
      "execution_count": null,
      "outputs": [
        {
          "output_type": "execute_result",
          "data": {
            "text/plain": [
              "array([[0.84248567],\n",
              "       [0.8531415 ],\n",
              "       [0.8821724 ],\n",
              "       [0.90344477],\n",
              "       [0.9162832 ],\n",
              "       [0.9228247 ],\n",
              "       [0.9225905 ],\n",
              "       [0.92713004],\n",
              "       [0.92644215],\n",
              "       [0.91782415]], dtype=float32)"
            ]
          },
          "metadata": {},
          "execution_count": 87
        }
      ]
    },
    {
      "cell_type": "code",
      "source": [
        "forecast_copies = np.repeat(forecast, df1.shape[1], axis=-1)\n",
        "y_pred_future = scaler.inverse_transform(forecast_copies)[:,0]"
      ],
      "metadata": {
        "id": "b0RpREgGM6U4"
      },
      "execution_count": null,
      "outputs": []
    },
    {
      "cell_type": "code",
      "source": [
        "forecast_copies[:10]"
      ],
      "metadata": {
        "colab": {
          "base_uri": "https://localhost:8080/"
        },
        "id": "ZJbyRSsfM6XG",
        "outputId": "81800444-4d86-4ab7-a9a2-202bf6054db7"
      },
      "execution_count": null,
      "outputs": [
        {
          "output_type": "execute_result",
          "data": {
            "text/plain": [
              "array([[0.84248567, 0.84248567, 0.84248567, 0.84248567, 0.84248567],\n",
              "       [0.8531415 , 0.8531415 , 0.8531415 , 0.8531415 , 0.8531415 ],\n",
              "       [0.8821724 , 0.8821724 , 0.8821724 , 0.8821724 , 0.8821724 ],\n",
              "       [0.90344477, 0.90344477, 0.90344477, 0.90344477, 0.90344477],\n",
              "       [0.9162832 , 0.9162832 , 0.9162832 , 0.9162832 , 0.9162832 ],\n",
              "       [0.9228247 , 0.9228247 , 0.9228247 , 0.9228247 , 0.9228247 ],\n",
              "       [0.9225905 , 0.9225905 , 0.9225905 , 0.9225905 , 0.9225905 ],\n",
              "       [0.92713004, 0.92713004, 0.92713004, 0.92713004, 0.92713004],\n",
              "       [0.92644215, 0.92644215, 0.92644215, 0.92644215, 0.92644215],\n",
              "       [0.91782415, 0.91782415, 0.91782415, 0.91782415, 0.91782415]],\n",
              "      dtype=float32)"
            ]
          },
          "metadata": {},
          "execution_count": 50
        }
      ]
    },
    {
      "cell_type": "code",
      "source": [
        "# Convert  timestamp to dates\n",
        "\n",
        "\n",
        "\n",
        "for i in range(len(forecast_dates)):\n",
        "  forecast_dates[i] = forecast_dates[i].date()\n",
        "\n",
        "forecast_dates[:10]"
      ],
      "metadata": {
        "colab": {
          "base_uri": "https://localhost:8080/"
        },
        "id": "5U3z7uRbM6Za",
        "outputId": "f26f0302-7949-4961-8443-3c524590cc24"
      },
      "execution_count": null,
      "outputs": [
        {
          "output_type": "execute_result",
          "data": {
            "text/plain": [
              "[datetime.date(2022, 6, 8),\n",
              " datetime.date(2022, 6, 9),\n",
              " datetime.date(2022, 6, 10),\n",
              " datetime.date(2022, 6, 11),\n",
              " datetime.date(2022, 6, 12),\n",
              " datetime.date(2022, 6, 13),\n",
              " datetime.date(2022, 6, 14),\n",
              " datetime.date(2022, 6, 15),\n",
              " datetime.date(2022, 6, 16),\n",
              " datetime.date(2022, 6, 17)]"
            ]
          },
          "metadata": {},
          "execution_count": 88
        }
      ]
    },
    {
      "cell_type": "code",
      "source": [
        "df_forecast = pd.DataFrame({'Date': np.array(forecast_dates),\n",
        "                            'Close_Forecast': y_pred_future})\n",
        "\n",
        "df_forecast['Date'] = pd.to_datetime(df_forecast['Date'])\n",
        "df_forecast.head()"
      ],
      "metadata": {
        "colab": {
          "base_uri": "https://localhost:8080/",
          "height": 206
        },
        "id": "2iHgmTsOSJoa",
        "outputId": "6a072d76-64ec-45f7-eb18-cad133f62580"
      },
      "execution_count": null,
      "outputs": [
        {
          "output_type": "execute_result",
          "data": {
            "text/plain": [
              "        Date  Close_Forecast\n",
              "0 2022-06-08     2680.961670\n",
              "1 2022-06-09     2703.503662\n",
              "2 2022-06-10     2764.917969\n",
              "3 2022-06-11     2809.919434\n",
              "4 2022-06-12     2837.078857"
            ],
            "text/html": [
              "\n",
              "  <div id=\"df-512ae0fb-7b74-494a-b923-6fa744ae627b\">\n",
              "    <div class=\"colab-df-container\">\n",
              "      <div>\n",
              "<style scoped>\n",
              "    .dataframe tbody tr th:only-of-type {\n",
              "        vertical-align: middle;\n",
              "    }\n",
              "\n",
              "    .dataframe tbody tr th {\n",
              "        vertical-align: top;\n",
              "    }\n",
              "\n",
              "    .dataframe thead th {\n",
              "        text-align: right;\n",
              "    }\n",
              "</style>\n",
              "<table border=\"1\" class=\"dataframe\">\n",
              "  <thead>\n",
              "    <tr style=\"text-align: right;\">\n",
              "      <th></th>\n",
              "      <th>Date</th>\n",
              "      <th>Close_Forecast</th>\n",
              "    </tr>\n",
              "  </thead>\n",
              "  <tbody>\n",
              "    <tr>\n",
              "      <th>0</th>\n",
              "      <td>2022-06-08</td>\n",
              "      <td>2680.961670</td>\n",
              "    </tr>\n",
              "    <tr>\n",
              "      <th>1</th>\n",
              "      <td>2022-06-09</td>\n",
              "      <td>2703.503662</td>\n",
              "    </tr>\n",
              "    <tr>\n",
              "      <th>2</th>\n",
              "      <td>2022-06-10</td>\n",
              "      <td>2764.917969</td>\n",
              "    </tr>\n",
              "    <tr>\n",
              "      <th>3</th>\n",
              "      <td>2022-06-11</td>\n",
              "      <td>2809.919434</td>\n",
              "    </tr>\n",
              "    <tr>\n",
              "      <th>4</th>\n",
              "      <td>2022-06-12</td>\n",
              "      <td>2837.078857</td>\n",
              "    </tr>\n",
              "  </tbody>\n",
              "</table>\n",
              "</div>\n",
              "      <button class=\"colab-df-convert\" onclick=\"convertToInteractive('df-512ae0fb-7b74-494a-b923-6fa744ae627b')\"\n",
              "              title=\"Convert this dataframe to an interactive table.\"\n",
              "              style=\"display:none;\">\n",
              "        \n",
              "  <svg xmlns=\"http://www.w3.org/2000/svg\" height=\"24px\"viewBox=\"0 0 24 24\"\n",
              "       width=\"24px\">\n",
              "    <path d=\"M0 0h24v24H0V0z\" fill=\"none\"/>\n",
              "    <path d=\"M18.56 5.44l.94 2.06.94-2.06 2.06-.94-2.06-.94-.94-2.06-.94 2.06-2.06.94zm-11 1L8.5 8.5l.94-2.06 2.06-.94-2.06-.94L8.5 2.5l-.94 2.06-2.06.94zm10 10l.94 2.06.94-2.06 2.06-.94-2.06-.94-.94-2.06-.94 2.06-2.06.94z\"/><path d=\"M17.41 7.96l-1.37-1.37c-.4-.4-.92-.59-1.43-.59-.52 0-1.04.2-1.43.59L10.3 9.45l-7.72 7.72c-.78.78-.78 2.05 0 2.83L4 21.41c.39.39.9.59 1.41.59.51 0 1.02-.2 1.41-.59l7.78-7.78 2.81-2.81c.8-.78.8-2.07 0-2.86zM5.41 20L4 18.59l7.72-7.72 1.47 1.35L5.41 20z\"/>\n",
              "  </svg>\n",
              "      </button>\n",
              "      \n",
              "  <style>\n",
              "    .colab-df-container {\n",
              "      display:flex;\n",
              "      flex-wrap:wrap;\n",
              "      gap: 12px;\n",
              "    }\n",
              "\n",
              "    .colab-df-convert {\n",
              "      background-color: #E8F0FE;\n",
              "      border: none;\n",
              "      border-radius: 50%;\n",
              "      cursor: pointer;\n",
              "      display: none;\n",
              "      fill: #1967D2;\n",
              "      height: 32px;\n",
              "      padding: 0 0 0 0;\n",
              "      width: 32px;\n",
              "    }\n",
              "\n",
              "    .colab-df-convert:hover {\n",
              "      background-color: #E2EBFA;\n",
              "      box-shadow: 0px 1px 2px rgba(60, 64, 67, 0.3), 0px 1px 3px 1px rgba(60, 64, 67, 0.15);\n",
              "      fill: #174EA6;\n",
              "    }\n",
              "\n",
              "    [theme=dark] .colab-df-convert {\n",
              "      background-color: #3B4455;\n",
              "      fill: #D2E3FC;\n",
              "    }\n",
              "\n",
              "    [theme=dark] .colab-df-convert:hover {\n",
              "      background-color: #434B5C;\n",
              "      box-shadow: 0px 1px 3px 1px rgba(0, 0, 0, 0.15);\n",
              "      filter: drop-shadow(0px 1px 2px rgba(0, 0, 0, 0.3));\n",
              "      fill: #FFFFFF;\n",
              "    }\n",
              "  </style>\n",
              "\n",
              "      <script>\n",
              "        const buttonEl =\n",
              "          document.querySelector('#df-512ae0fb-7b74-494a-b923-6fa744ae627b button.colab-df-convert');\n",
              "        buttonEl.style.display =\n",
              "          google.colab.kernel.accessAllowed ? 'block' : 'none';\n",
              "\n",
              "        async function convertToInteractive(key) {\n",
              "          const element = document.querySelector('#df-512ae0fb-7b74-494a-b923-6fa744ae627b');\n",
              "          const dataTable =\n",
              "            await google.colab.kernel.invokeFunction('convertToInteractive',\n",
              "                                                     [key], {});\n",
              "          if (!dataTable) return;\n",
              "\n",
              "          const docLinkHtml = 'Like what you see? Visit the ' +\n",
              "            '<a target=\"_blank\" href=https://colab.research.google.com/notebooks/data_table.ipynb>data table notebook</a>'\n",
              "            + ' to learn more about interactive tables.';\n",
              "          element.innerHTML = '';\n",
              "          dataTable['output_type'] = 'display_data';\n",
              "          await google.colab.output.renderOutput(dataTable, element);\n",
              "          const docLink = document.createElement('div');\n",
              "          docLink.innerHTML = docLinkHtml;\n",
              "          element.appendChild(docLink);\n",
              "        }\n",
              "      </script>\n",
              "    </div>\n",
              "  </div>\n",
              "  "
            ]
          },
          "metadata": {},
          "execution_count": 89
        }
      ]
    },
    {
      "cell_type": "code",
      "source": [
        "original_data = df.reset_index()[['date', 'close']]\n",
        "original_data['date'] = [dt.date() for dt in pd.to_datetime(original_data['date'])]\n",
        "# original_data['date'] = original_data['date'].dt.normalize()\n",
        "original_data = original_data.loc[pd.to_datetime(original_data['date'])>pd.Timestamp('2020-5-31')]\n",
        "original_data.head()"
      ],
      "metadata": {
        "colab": {
          "base_uri": "https://localhost:8080/",
          "height": 206
        },
        "id": "dP-wAziNSd-z",
        "outputId": "807a951f-4267-4389-9e64-fa639128eceb"
      },
      "execution_count": null,
      "outputs": [
        {
          "output_type": "execute_result",
          "data": {
            "text/plain": [
              "           date    close\n",
              "747  2020-06-01  1431.82\n",
              "748  2020-06-02  1439.22\n",
              "749  2020-06-03  1436.38\n",
              "750  2020-06-04  1412.18\n",
              "751  2020-06-05  1438.39"
            ],
            "text/html": [
              "\n",
              "  <div id=\"df-c26b4e4f-0bec-4a29-87be-f47a3fda8db9\">\n",
              "    <div class=\"colab-df-container\">\n",
              "      <div>\n",
              "<style scoped>\n",
              "    .dataframe tbody tr th:only-of-type {\n",
              "        vertical-align: middle;\n",
              "    }\n",
              "\n",
              "    .dataframe tbody tr th {\n",
              "        vertical-align: top;\n",
              "    }\n",
              "\n",
              "    .dataframe thead th {\n",
              "        text-align: right;\n",
              "    }\n",
              "</style>\n",
              "<table border=\"1\" class=\"dataframe\">\n",
              "  <thead>\n",
              "    <tr style=\"text-align: right;\">\n",
              "      <th></th>\n",
              "      <th>date</th>\n",
              "      <th>close</th>\n",
              "    </tr>\n",
              "  </thead>\n",
              "  <tbody>\n",
              "    <tr>\n",
              "      <th>747</th>\n",
              "      <td>2020-06-01</td>\n",
              "      <td>1431.82</td>\n",
              "    </tr>\n",
              "    <tr>\n",
              "      <th>748</th>\n",
              "      <td>2020-06-02</td>\n",
              "      <td>1439.22</td>\n",
              "    </tr>\n",
              "    <tr>\n",
              "      <th>749</th>\n",
              "      <td>2020-06-03</td>\n",
              "      <td>1436.38</td>\n",
              "    </tr>\n",
              "    <tr>\n",
              "      <th>750</th>\n",
              "      <td>2020-06-04</td>\n",
              "      <td>1412.18</td>\n",
              "    </tr>\n",
              "    <tr>\n",
              "      <th>751</th>\n",
              "      <td>2020-06-05</td>\n",
              "      <td>1438.39</td>\n",
              "    </tr>\n",
              "  </tbody>\n",
              "</table>\n",
              "</div>\n",
              "      <button class=\"colab-df-convert\" onclick=\"convertToInteractive('df-c26b4e4f-0bec-4a29-87be-f47a3fda8db9')\"\n",
              "              title=\"Convert this dataframe to an interactive table.\"\n",
              "              style=\"display:none;\">\n",
              "        \n",
              "  <svg xmlns=\"http://www.w3.org/2000/svg\" height=\"24px\"viewBox=\"0 0 24 24\"\n",
              "       width=\"24px\">\n",
              "    <path d=\"M0 0h24v24H0V0z\" fill=\"none\"/>\n",
              "    <path d=\"M18.56 5.44l.94 2.06.94-2.06 2.06-.94-2.06-.94-.94-2.06-.94 2.06-2.06.94zm-11 1L8.5 8.5l.94-2.06 2.06-.94-2.06-.94L8.5 2.5l-.94 2.06-2.06.94zm10 10l.94 2.06.94-2.06 2.06-.94-2.06-.94-.94-2.06-.94 2.06-2.06.94z\"/><path d=\"M17.41 7.96l-1.37-1.37c-.4-.4-.92-.59-1.43-.59-.52 0-1.04.2-1.43.59L10.3 9.45l-7.72 7.72c-.78.78-.78 2.05 0 2.83L4 21.41c.39.39.9.59 1.41.59.51 0 1.02-.2 1.41-.59l7.78-7.78 2.81-2.81c.8-.78.8-2.07 0-2.86zM5.41 20L4 18.59l7.72-7.72 1.47 1.35L5.41 20z\"/>\n",
              "  </svg>\n",
              "      </button>\n",
              "      \n",
              "  <style>\n",
              "    .colab-df-container {\n",
              "      display:flex;\n",
              "      flex-wrap:wrap;\n",
              "      gap: 12px;\n",
              "    }\n",
              "\n",
              "    .colab-df-convert {\n",
              "      background-color: #E8F0FE;\n",
              "      border: none;\n",
              "      border-radius: 50%;\n",
              "      cursor: pointer;\n",
              "      display: none;\n",
              "      fill: #1967D2;\n",
              "      height: 32px;\n",
              "      padding: 0 0 0 0;\n",
              "      width: 32px;\n",
              "    }\n",
              "\n",
              "    .colab-df-convert:hover {\n",
              "      background-color: #E2EBFA;\n",
              "      box-shadow: 0px 1px 2px rgba(60, 64, 67, 0.3), 0px 1px 3px 1px rgba(60, 64, 67, 0.15);\n",
              "      fill: #174EA6;\n",
              "    }\n",
              "\n",
              "    [theme=dark] .colab-df-convert {\n",
              "      background-color: #3B4455;\n",
              "      fill: #D2E3FC;\n",
              "    }\n",
              "\n",
              "    [theme=dark] .colab-df-convert:hover {\n",
              "      background-color: #434B5C;\n",
              "      box-shadow: 0px 1px 3px 1px rgba(0, 0, 0, 0.15);\n",
              "      filter: drop-shadow(0px 1px 2px rgba(0, 0, 0, 0.3));\n",
              "      fill: #FFFFFF;\n",
              "    }\n",
              "  </style>\n",
              "\n",
              "      <script>\n",
              "        const buttonEl =\n",
              "          document.querySelector('#df-c26b4e4f-0bec-4a29-87be-f47a3fda8db9 button.colab-df-convert');\n",
              "        buttonEl.style.display =\n",
              "          google.colab.kernel.accessAllowed ? 'block' : 'none';\n",
              "\n",
              "        async function convertToInteractive(key) {\n",
              "          const element = document.querySelector('#df-c26b4e4f-0bec-4a29-87be-f47a3fda8db9');\n",
              "          const dataTable =\n",
              "            await google.colab.kernel.invokeFunction('convertToInteractive',\n",
              "                                                     [key], {});\n",
              "          if (!dataTable) return;\n",
              "\n",
              "          const docLinkHtml = 'Like what you see? Visit the ' +\n",
              "            '<a target=\"_blank\" href=https://colab.research.google.com/notebooks/data_table.ipynb>data table notebook</a>'\n",
              "            + ' to learn more about interactive tables.';\n",
              "          element.innerHTML = '';\n",
              "          dataTable['output_type'] = 'display_data';\n",
              "          await google.colab.output.renderOutput(dataTable, element);\n",
              "          const docLink = document.createElement('div');\n",
              "          docLink.innerHTML = docLinkHtml;\n",
              "          element.appendChild(docLink);\n",
              "        }\n",
              "      </script>\n",
              "    </div>\n",
              "  </div>\n",
              "  "
            ]
          },
          "metadata": {},
          "execution_count": 90
        }
      ]
    },
    {
      "cell_type": "code",
      "source": [
        "plt.figure(figsize=(10,5))\n",
        "plt.plot(original_data.set_index(['date']), label='original_data')\n",
        "plt.plot(df_forecast.set_index(['Date']), label='forecast')"
      ],
      "metadata": {
        "colab": {
          "base_uri": "https://localhost:8080/",
          "height": 337
        },
        "id": "N3enDf-hXBmy",
        "outputId": "81c86d53-6895-4114-834b-09a492929227"
      },
      "execution_count": null,
      "outputs": [
        {
          "output_type": "execute_result",
          "data": {
            "text/plain": [
              "[<matplotlib.lines.Line2D at 0x7f9c44b07950>]"
            ]
          },
          "metadata": {},
          "execution_count": 91
        },
        {
          "output_type": "display_data",
          "data": {
            "text/plain": [
              "<Figure size 720x360 with 1 Axes>"
            ],
            "image/png": "[encoded data removed]"
          },
          "metadata": {
            "needs_background": "light"
          }
        }
      ]
    },
    {
      "cell_type": "code",
      "source": [],
      "metadata": {
        "id": "x6RtVbhZXBo7"
      },
      "execution_count": null,
      "outputs": []
    },
    {
      "cell_type": "code",
      "source": [
        "raw = pd.DataFrame()\n",
        "raw['ob1'] = [x for x in range(10)]\n",
        "raw['ob2'] = [x for x in range(50, 60)]\n",
        "values = raw.values\n",
        "data = series_to_sequence(values, 2, 1)\n",
        "print(data)"
      ],
      "metadata": {
        "colab": {
          "base_uri": "https://localhost:8080/"
        },
        "id": "e6wE3oBgDpfn",
        "outputId": "c8e9ef0d-2730-4b6b-dfec-28851234b2a5"
      },
      "execution_count": null,
      "outputs": [
        {
          "output_type": "stream",
          "name": "stdout",
          "text": [
            "   var1(t-2)  var2(t-2)  var1(t-1)  var2(t-1)  var1(t)  var2(t)\n",
            "2        0.0       50.0        1.0       51.0        2       52\n",
            "3        1.0       51.0        2.0       52.0        3       53\n",
            "4        2.0       52.0        3.0       53.0        4       54\n",
            "5        3.0       53.0        4.0       54.0        5       55\n",
            "6        4.0       54.0        5.0       55.0        6       56\n",
            "7        5.0       55.0        6.0       56.0        7       57\n",
            "8        6.0       56.0        7.0       57.0        8       58\n",
            "9        7.0       57.0        8.0       58.0        9       59\n"
          ]
        }
      ]
    },
    {
      "cell_type": "code",
      "source": [],
      "metadata": {
        "id": "HiMJ68wiDpi6"
      },
      "execution_count": null,
      "outputs": []
    }
  ]
}